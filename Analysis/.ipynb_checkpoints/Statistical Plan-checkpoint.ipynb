{
 "cells": [
  {
   "cell_type": "markdown",
   "id": "1754f8ce",
   "metadata": {},
   "source": [
    "# Statistical Plan"
   ]
  },
  {
   "cell_type": "markdown",
   "id": "21077f59",
   "metadata": {},
   "source": [
    "This document is dedicated for detailed explanation of statistical analysis of M.O.R.E. (Morphed Object Recognition Experiment). We will start with detailed explanation of the data itself. Overall we collected 22 different type of data where we will mention here the ones related with the analysis (for the rest please see \"fulldataset.csv\") .\n",
    "\n",
    "**1) Participant Number:** Number of the participant, overall we have 30 participants. |pt_num|\n",
    "\n",
    "**2) Trial Number:** As the name suggest corresponding trial number; for each participant whole experiment consisted of 1440 trials (excluding the training phase). |trial_nbr|\n",
    "\n",
    "**3) Block Number:** Overall, experiment consists of 10 blocks (and 9 break in between the blocks), thus each block contained of 144 trials. |block_number|\n",
    "\n",
    "**4) Reaction Time:** One of the key data to be analyzed, recorded reaction time given to a trial, a timer sets on after the stimulus presentation until a response with key is given. Clarification, reaction time does not include stimulus presentation only the time after stimulus presentation and until a key is pressed. maximum of 10 seconds window was allowed if no response given within this 10 seconds; next trial begins. |rt|\n",
    "\n",
    "**5) Stimulus Onset Asynchrony (SOA):** This terms is currently a bit misleading, we mean duration of stimulus presented (time that image stayed on the screen), this changed across the experiment to be 25ms, 50ms and 100ms. Each duration type was evenly distributed (in a randomized order) through the experiment 480 trial per type. |soa|\n",
    "\n",
    "**6) Accuracy:** Registry of whether a participant correctly chose the the category of the given stimuli. Thus, it is either TRUE or FALSE. |acc|\n",
    "\n",
    "**7) Category:** Category of the presented object, one of the following options: bird, tree, cat, building, bus, person, fire hydrant, banana. |category|\n",
    "\n",
    "**8) Chosen Category:** Response of the participant selecting the category of the object. |choiced_category|\n",
    "\n",
    "**9) Difficulty:** Difficulty of the occlusion (how much of the image is being occluded), control = no occlusion, low = smaller occlusion, high = greater occlusion. |difficulty|.\n",
    "\n",
    "**10) Size of Occlusion:** As we opted for partial viewing occlusion type, this occlusion also differs into two, having few but large blobs blocking the image, and many but small images blocking the image, |size_occl|\n",
    "\n",
    "**11) Pressed Key:** Which key was pressed to give response to the trial? We recorded each pressed key per trial. |pressed_key|\n",
    "\n",
    "**12) Correct Key:** This holds the value which key was supposed to be pressed in order to give the correct answer. |correct_key|\n",
    "\n",
    "\n",
    "\n",
    "\n",
    "\n",
    "*Overall, we have had 3 different effect parameters (SOA, Difficulty and Size of Occlusion) that is hypothesized to influence the accuracy and the reaction time.*"
   ]
  },
  {
   "cell_type": "markdown",
   "id": "ee431aa3",
   "metadata": {},
   "source": [
    "## Processing Data"
   ]
  },
  {
   "cell_type": "markdown",
   "id": "aeae4c1a",
   "metadata": {},
   "source": [
    "We must start with importing necessary libraries, datasets and merging everything into one big set. Where we will start with data cleaning and determination of outliers. "
   ]
  },
  {
   "cell_type": "code",
   "execution_count": 114,
   "id": "ee7528a8",
   "metadata": {
    "scrolled": true
   },
   "outputs": [
    {
     "name": "stdout",
     "output_type": "stream",
     "text": [
      "30\n"
     ]
    },
    {
     "data": {
      "text/plain": [
       "43200"
      ]
     },
     "execution_count": 114,
     "metadata": {},
     "output_type": "execute_result"
    }
   ],
   "source": [
    "import numpy as np\n",
    "from sklearn import metrics\n",
    "from sklearn.metrics import confusion_matrix\n",
    "from sklearn.metrics import ConfusionMatrixDisplay\n",
    "import matplotlib\n",
    "from matplotlib import pyplot as plt\n",
    "import seaborn as sns\n",
    "import pandas as pd\n",
    "import glob\n",
    "import statistics\n",
    "\n",
    "# use a personal style sheet\n",
    "plt.style.use(\"./styles/mystyle.mplstyle\")\n",
    "\n",
    "# listing all the current data\n",
    "data_files = glob.glob(r'../Experiment/data/*.csv') # taking only the two complete files\n",
    "\n",
    "df = pd.DataFrame()\n",
    "for i in range(len(data_files)):\n",
    "    temp_df = pd.read_csv(data_files[i])\n",
    "    df = pd.concat([df, temp_df])\n",
    "\n",
    "# select only the main task\n",
    "df = df.loc[df['task']=='experiment']\n",
    "\n",
    "# dropping unnecessary columns in terms of data analysis\n",
    "df = df.drop(labels = [\"Age\", \"Gender\", \"Handedness\", \"manipulation\", \"mask\", \"type_occl\", \"filename\",\n",
    "                       \"mask_filename\", \"task\", \"Experiment Duration\", \"Version\"], axis=1)\n",
    "df = df.reset_index(drop = True)\n",
    "\n",
    "# extracting sample size\n",
    "n = len(set(df.pt_num))\n",
    "print(n)\n",
    "# \n",
    "df.head()\n",
    "#Overall trial number\n",
    "len(df.index) #43200"
   ]
  },
  {
   "cell_type": "markdown",
   "id": "bc8b2fd8",
   "metadata": {},
   "source": [
    "### Outlier Determination and Managing missing datapoints\n",
    "\n",
    "Now as we have our merged dataset available to us (df) we now should start with close inspection of the datasets, this including managing missing datapoints. Coding of the experiment allow us to easily find such occasion, we will be looking for a reaction time higher-equal to 10 and pressed key is to be \"NAN\". we will remove such rows from the dataset.\n",
    "\n"
   ]
  },
  {
   "cell_type": "code",
   "execution_count": 115,
   "id": "06d591e9",
   "metadata": {},
   "outputs": [
    {
     "data": {
      "text/html": [
       "<div>\n",
       "<style scoped>\n",
       "    .dataframe tbody tr th:only-of-type {\n",
       "        vertical-align: middle;\n",
       "    }\n",
       "\n",
       "    .dataframe tbody tr th {\n",
       "        vertical-align: top;\n",
       "    }\n",
       "\n",
       "    .dataframe thead th {\n",
       "        text-align: right;\n",
       "    }\n",
       "</style>\n",
       "<table border=\"1\" class=\"dataframe\">\n",
       "  <thead>\n",
       "    <tr style=\"text-align: right;\">\n",
       "      <th></th>\n",
       "      <th>pt_num</th>\n",
       "      <th>trial_nbr</th>\n",
       "      <th>block_number</th>\n",
       "      <th>rt</th>\n",
       "      <th>soa</th>\n",
       "      <th>acc</th>\n",
       "      <th>category</th>\n",
       "      <th>choiced_category</th>\n",
       "      <th>difficulty</th>\n",
       "      <th>size_occl</th>\n",
       "      <th>pressed_key</th>\n",
       "      <th>correct_key</th>\n",
       "    </tr>\n",
       "  </thead>\n",
       "  <tbody>\n",
       "    <tr>\n",
       "      <th>15521</th>\n",
       "      <td>19</td>\n",
       "      <td>1122</td>\n",
       "      <td>Block 8</td>\n",
       "      <td>10.648954</td>\n",
       "      <td>0.025</td>\n",
       "      <td>False</td>\n",
       "      <td>building</td>\n",
       "      <td>NAN</td>\n",
       "      <td>low</td>\n",
       "      <td>few large</td>\n",
       "      <td>NAN</td>\n",
       "      <td>q</td>\n",
       "    </tr>\n",
       "  </tbody>\n",
       "</table>\n",
       "</div>"
      ],
      "text/plain": [
       "       pt_num  trial_nbr block_number         rt    soa    acc  category  \\\n",
       "15521      19       1122      Block 8  10.648954  0.025  False  building   \n",
       "\n",
       "      choiced_category difficulty  size_occl pressed_key correct_key  \n",
       "15521              NAN        low  few large         NAN           q  "
      ]
     },
     "execution_count": 115,
     "metadata": {},
     "output_type": "execute_result"
    }
   ],
   "source": [
    "df[df[\"pressed_key\"] == \"NAN\"]\n",
    "# there is only one occasion where there is NAN,  participant-19, trial number 1122"
   ]
  },
  {
   "cell_type": "code",
   "execution_count": 116,
   "id": "67087543",
   "metadata": {},
   "outputs": [],
   "source": [
    "df = df.drop(labels = 15521, axis = 0)"
   ]
  },
  {
   "cell_type": "code",
   "execution_count": 117,
   "id": "329c4243",
   "metadata": {
    "scrolled": true
   },
   "outputs": [
    {
     "data": {
      "text/html": [
       "<div>\n",
       "<style scoped>\n",
       "    .dataframe tbody tr th:only-of-type {\n",
       "        vertical-align: middle;\n",
       "    }\n",
       "\n",
       "    .dataframe tbody tr th {\n",
       "        vertical-align: top;\n",
       "    }\n",
       "\n",
       "    .dataframe thead th {\n",
       "        text-align: right;\n",
       "    }\n",
       "</style>\n",
       "<table border=\"1\" class=\"dataframe\">\n",
       "  <thead>\n",
       "    <tr style=\"text-align: right;\">\n",
       "      <th></th>\n",
       "      <th>pt_num</th>\n",
       "      <th>trial_nbr</th>\n",
       "      <th>block_number</th>\n",
       "      <th>rt</th>\n",
       "      <th>soa</th>\n",
       "      <th>acc</th>\n",
       "      <th>category</th>\n",
       "      <th>choiced_category</th>\n",
       "      <th>difficulty</th>\n",
       "      <th>size_occl</th>\n",
       "      <th>pressed_key</th>\n",
       "      <th>correct_key</th>\n",
       "    </tr>\n",
       "  </thead>\n",
       "  <tbody>\n",
       "  </tbody>\n",
       "</table>\n",
       "</div>"
      ],
      "text/plain": [
       "Empty DataFrame\n",
       "Columns: [pt_num, trial_nbr, block_number, rt, soa, acc, category, choiced_category, difficulty, size_occl, pressed_key, correct_key]\n",
       "Index: []"
      ]
     },
     "execution_count": 117,
     "metadata": {},
     "output_type": "execute_result"
    }
   ],
   "source": [
    "df[df[\"pressed_key\"] == \"NAN\"]\n",
    "# Now it is removed"
   ]
  },
  {
   "cell_type": "markdown",
   "id": "f92aa632",
   "metadata": {},
   "source": [
    "**For outliers**: 99th percentile cut-off value will be employed when it comes to reaction time. Also for the accuracy we will check if any participant is close to (or even below) of a chance level which is 12.5% given that there are 8 possible options to be chosen. These outliers will be removed from the dataset."
   ]
  },
  {
   "cell_type": "markdown",
   "id": "763a1e2a",
   "metadata": {},
   "source": [
    "## Work in Progress..."
   ]
  }
 ],
 "metadata": {
  "kernelspec": {
   "display_name": "Python 3 (ipykernel)",
   "language": "python",
   "name": "python3"
  },
  "language_info": {
   "codemirror_mode": {
    "name": "ipython",
    "version": 3
   },
   "file_extension": ".py",
   "mimetype": "text/x-python",
   "name": "python",
   "nbconvert_exporter": "python",
   "pygments_lexer": "ipython3",
   "version": "3.9.15"
  }
 },
 "nbformat": 4,
 "nbformat_minor": 5
}
