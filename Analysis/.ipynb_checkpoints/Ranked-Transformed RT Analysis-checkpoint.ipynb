{
 "cells": [
  {
   "cell_type": "markdown",
   "id": "1754f8ce",
   "metadata": {},
   "source": [
    "# Statistical Plan with Rank Transformation for Reaction Time"
   ]
  },
  {
   "cell_type": "markdown",
   "id": "21077f59",
   "metadata": {},
   "source": [
    "In this script, you can find the same analysis with first rank transformation. Here, we will be using already exported pre-processed clean dataset. We also change the multiple comparison's of levels to the non-parametric equivalent of Tukey's test, which is Dunn test."
   ]
  },
  {
   "cell_type": "markdown",
   "id": "ee431aa3",
   "metadata": {},
   "source": [
    "## Processing Data"
   ]
  },
  {
   "cell_type": "markdown",
   "id": "aeae4c1a",
   "metadata": {},
   "source": [
    "We must start with importing necessary libraries, datasets and merging everything into one big set. Where we will start with data cleaning and determination of outliers. "
   ]
  },
  {
   "cell_type": "code",
   "execution_count": 1,
   "id": "847f23bb",
   "metadata": {},
   "outputs": [],
   "source": [
    "import numpy as np\n",
    "from sklearn import metrics\n",
    "from sklearn.metrics import confusion_matrix\n",
    "from sklearn.metrics import ConfusionMatrixDisplay\n",
    "import matplotlib\n",
    "from matplotlib import pyplot as plt\n",
    "import seaborn as sns\n",
    "from scipy.stats import pearsonr\n",
    "from scipy.stats import rankdata\n",
    "import pandas as pd\n",
    "import glob\n",
    "import statistics\n",
    "import pingouin as pg\n",
    "import scikit_posthocs as sp\n",
    "import statsmodels.api as sm\n",
    "from statsmodels.stats.multicomp import pairwise_tukeyhsd\n",
    "from statsmodels.stats.anova import AnovaRM\n",
    "import warnings\n",
    "warnings.filterwarnings(\"ignore\")"
   ]
  },
  {
   "cell_type": "code",
   "execution_count": 2,
   "id": "ee7528a8",
   "metadata": {
    "scrolled": true
   },
   "outputs": [],
   "source": [
    "# use a personal style sheet\n",
    "plt.style.use(\"./styles/mystyle.mplstyle\")\n",
    "\n",
    "df = pd.read_csv(\"DF_cleaned.csv\")"
   ]
  },
  {
   "cell_type": "markdown",
   "id": "1a10af2b",
   "metadata": {},
   "source": [
    "## Anova Testing (RT)"
   ]
  },
  {
   "cell_type": "markdown",
   "id": "1e214ae8",
   "metadata": {},
   "source": [
    "### Main Anova size of occlusion x SOA\n",
    "We only take the true values of accuracy for reaction time anova testing. We also do multiple comparison and do posthoc."
   ]
  },
  {
   "cell_type": "code",
   "execution_count": 6,
   "id": "71cfcf36",
   "metadata": {
    "scrolled": false
   },
   "outputs": [
    {
     "data": {
      "text/html": [
       "<div>\n",
       "<style scoped>\n",
       "    .dataframe tbody tr th:only-of-type {\n",
       "        vertical-align: middle;\n",
       "    }\n",
       "\n",
       "    .dataframe tbody tr th {\n",
       "        vertical-align: top;\n",
       "    }\n",
       "\n",
       "    .dataframe thead th {\n",
       "        text-align: right;\n",
       "    }\n",
       "</style>\n",
       "<table border=\"1\" class=\"dataframe\">\n",
       "  <thead>\n",
       "    <tr style=\"text-align: right;\">\n",
       "      <th></th>\n",
       "      <th>Source</th>\n",
       "      <th>SS</th>\n",
       "      <th>ddof1</th>\n",
       "      <th>ddof2</th>\n",
       "      <th>MS</th>\n",
       "      <th>F</th>\n",
       "      <th>p-unc</th>\n",
       "      <th>p-GG-corr</th>\n",
       "      <th>ng2</th>\n",
       "      <th>eps</th>\n",
       "    </tr>\n",
       "  </thead>\n",
       "  <tbody>\n",
       "    <tr>\n",
       "      <th>0</th>\n",
       "      <td>size_occl</td>\n",
       "      <td>4.244404e+07</td>\n",
       "      <td>1</td>\n",
       "      <td>28</td>\n",
       "      <td>4.244404e+07</td>\n",
       "      <td>46.034277</td>\n",
       "      <td>2.277132e-07</td>\n",
       "      <td>2.277132e-07</td>\n",
       "      <td>0.013176</td>\n",
       "      <td>1.000000</td>\n",
       "    </tr>\n",
       "    <tr>\n",
       "      <th>1</th>\n",
       "      <td>soa</td>\n",
       "      <td>9.683683e+06</td>\n",
       "      <td>2</td>\n",
       "      <td>56</td>\n",
       "      <td>4.841842e+06</td>\n",
       "      <td>7.020051</td>\n",
       "      <td>1.903510e-03</td>\n",
       "      <td>3.068488e-03</td>\n",
       "      <td>0.003037</td>\n",
       "      <td>0.875361</td>\n",
       "    </tr>\n",
       "    <tr>\n",
       "      <th>2</th>\n",
       "      <td>size_occl * soa</td>\n",
       "      <td>1.048237e+06</td>\n",
       "      <td>2</td>\n",
       "      <td>56</td>\n",
       "      <td>5.241187e+05</td>\n",
       "      <td>1.189846</td>\n",
       "      <td>3.118418e-01</td>\n",
       "      <td>3.045938e-01</td>\n",
       "      <td>0.000330</td>\n",
       "      <td>0.786959</td>\n",
       "    </tr>\n",
       "  </tbody>\n",
       "</table>\n",
       "</div>"
      ],
      "text/plain": [
       "            Source            SS  ddof1  ddof2            MS          F  \\\n",
       "0        size_occl  4.244404e+07      1     28  4.244404e+07  46.034277   \n",
       "1              soa  9.683683e+06      2     56  4.841842e+06   7.020051   \n",
       "2  size_occl * soa  1.048237e+06      2     56  5.241187e+05   1.189846   \n",
       "\n",
       "          p-unc     p-GG-corr       ng2       eps  \n",
       "0  2.277132e-07  2.277132e-07  0.013176  1.000000  \n",
       "1  1.903510e-03  3.068488e-03  0.003037  0.875361  \n",
       "2  3.118418e-01  3.045938e-01  0.000330  0.786959  "
      ]
     },
     "metadata": {},
     "output_type": "display_data"
    },
    {
     "data": {
      "text/html": [
       "<div>\n",
       "<style scoped>\n",
       "    .dataframe tbody tr th:only-of-type {\n",
       "        vertical-align: middle;\n",
       "    }\n",
       "\n",
       "    .dataframe tbody tr th {\n",
       "        vertical-align: top;\n",
       "    }\n",
       "\n",
       "    .dataframe thead th {\n",
       "        text-align: right;\n",
       "    }\n",
       "</style>\n",
       "<table border=\"1\" class=\"dataframe\">\n",
       "  <thead>\n",
       "    <tr style=\"text-align: right;\">\n",
       "      <th></th>\n",
       "      <th>0.025</th>\n",
       "      <th>0.050</th>\n",
       "      <th>0.100</th>\n",
       "    </tr>\n",
       "  </thead>\n",
       "  <tbody>\n",
       "    <tr>\n",
       "      <th>0.025</th>\n",
       "      <td>1.000000</td>\n",
       "      <td>1.00000</td>\n",
       "      <td>0.002629</td>\n",
       "    </tr>\n",
       "    <tr>\n",
       "      <th>0.050</th>\n",
       "      <td>1.000000</td>\n",
       "      <td>1.00000</td>\n",
       "      <td>0.000060</td>\n",
       "    </tr>\n",
       "    <tr>\n",
       "      <th>0.100</th>\n",
       "      <td>0.002629</td>\n",
       "      <td>0.00006</td>\n",
       "      <td>1.000000</td>\n",
       "    </tr>\n",
       "  </tbody>\n",
       "</table>\n",
       "</div>"
      ],
      "text/plain": [
       "          0.025    0.050     0.100\n",
       "0.025  1.000000  1.00000  0.002629\n",
       "0.050  1.000000  1.00000  0.000060\n",
       "0.100  0.002629  0.00006  1.000000"
      ]
     },
     "metadata": {},
     "output_type": "display_data"
    },
    {
     "data": {
      "text/html": [
       "<div>\n",
       "<style scoped>\n",
       "    .dataframe tbody tr th:only-of-type {\n",
       "        vertical-align: middle;\n",
       "    }\n",
       "\n",
       "    .dataframe tbody tr th {\n",
       "        vertical-align: top;\n",
       "    }\n",
       "\n",
       "    .dataframe thead th {\n",
       "        text-align: right;\n",
       "    }\n",
       "</style>\n",
       "<table border=\"1\" class=\"dataframe\">\n",
       "  <thead>\n",
       "    <tr style=\"text-align: right;\">\n",
       "      <th></th>\n",
       "      <th>few large</th>\n",
       "      <th>many small</th>\n",
       "    </tr>\n",
       "  </thead>\n",
       "  <tbody>\n",
       "    <tr>\n",
       "      <th>few large</th>\n",
       "      <td>1.000000e+00</td>\n",
       "      <td>2.832778e-17</td>\n",
       "    </tr>\n",
       "    <tr>\n",
       "      <th>many small</th>\n",
       "      <td>2.832778e-17</td>\n",
       "      <td>1.000000e+00</td>\n",
       "    </tr>\n",
       "  </tbody>\n",
       "</table>\n",
       "</div>"
      ],
      "text/plain": [
       "               few large    many small\n",
       "few large   1.000000e+00  2.832778e-17\n",
       "many small  2.832778e-17  1.000000e+00"
      ]
     },
     "metadata": {},
     "output_type": "display_data"
    },
    {
     "data": {
      "text/plain": [
       "(<Axes: >, <matplotlib.colorbar.Colorbar at 0x23d69c0c3d0>)"
      ]
     },
     "execution_count": 6,
     "metadata": {},
     "output_type": "execute_result"
    },
    {
     "data": {
      "image/png": "[encoded data removed]",
      "text/plain": [
       "<Figure size 800x600 with 4 Axes>"
      ]
     },
     "metadata": {},
     "output_type": "display_data"
    }
   ],
   "source": [
    "# Main Anova\n",
    "df_correct =  df[df['acc'] == True]\n",
    "#ranking the data\n",
    "df_correct['rt'] =  rankdata(df_correct['rt'])\n",
    "# Perform Two-Way ANOVA\n",
    "main_result = pg.rm_anova(data=df_correct, dv='rt', within=['size_occl', 'soa'], subject= 'pt_num', detailed=True)\n",
    "display(main_result)\n",
    "\n",
    "#multiple comparisons\n",
    "posthoc_soa = sp.posthoc_dunn(df_correct, val_col= \"rt\", group_col= \"soa\", p_adjust='bonferroni')\n",
    "display(posthoc_soa)\n",
    "\n",
    "posthoc_size_occl = sp.posthoc_dunn(df_correct, val_col= \"rt\", group_col= \"size_occl\", p_adjust='bonferroni')\n",
    "display(posthoc_size_occl)\n",
    "\n",
    "#PLotting them as signplots\n",
    "fig, ax = plt.subplots(1,2,figsize=(8, 6))\n",
    "cmap = ['1', '#fb6a4a',  '#08306b',  '#4292c6', '#c6dbef']\n",
    "heatmap_args = {'cmap': cmap, 'linewidths': 0.25, 'linecolor': '0.5', 'clip_on': False, 'square': True, 'cbar_ax_bbox': [0.95, 0.35, 0.04, 0.3]}\n",
    "sp.sign_plot(posthoc_soa, **heatmap_args, ax =ax[0])\n",
    "\n",
    "sp.sign_plot(posthoc_size_occl, **heatmap_args, ax= ax[1])"
   ]
  },
  {
   "cell_type": "markdown",
   "id": "a696165a",
   "metadata": {},
   "source": [
    "### Sub-Anova on many small checking for effects of difficulty X Soa"
   ]
  },
  {
   "cell_type": "code",
   "execution_count": 15,
   "id": "79012332",
   "metadata": {
    "scrolled": false
   },
   "outputs": [
    {
     "data": {
      "text/html": [
       "<div>\n",
       "<style scoped>\n",
       "    .dataframe tbody tr th:only-of-type {\n",
       "        vertical-align: middle;\n",
       "    }\n",
       "\n",
       "    .dataframe tbody tr th {\n",
       "        vertical-align: top;\n",
       "    }\n",
       "\n",
       "    .dataframe thead th {\n",
       "        text-align: right;\n",
       "    }\n",
       "</style>\n",
       "<table border=\"1\" class=\"dataframe\">\n",
       "  <thead>\n",
       "    <tr style=\"text-align: right;\">\n",
       "      <th></th>\n",
       "      <th>Source</th>\n",
       "      <th>SS</th>\n",
       "      <th>ddof1</th>\n",
       "      <th>ddof2</th>\n",
       "      <th>MS</th>\n",
       "      <th>F</th>\n",
       "      <th>p-unc</th>\n",
       "      <th>p-GG-corr</th>\n",
       "      <th>ng2</th>\n",
       "      <th>eps</th>\n",
       "    </tr>\n",
       "  </thead>\n",
       "  <tbody>\n",
       "    <tr>\n",
       "      <th>0</th>\n",
       "      <td>difficulty</td>\n",
       "      <td>1.837813e+08</td>\n",
       "      <td>2</td>\n",
       "      <td>56</td>\n",
       "      <td>9.189067e+07</td>\n",
       "      <td>111.990051</td>\n",
       "      <td>2.689701e-20</td>\n",
       "      <td>7.907410e-16</td>\n",
       "      <td>0.144787</td>\n",
       "      <td>0.751471</td>\n",
       "    </tr>\n",
       "    <tr>\n",
       "      <th>1</th>\n",
       "      <td>soa</td>\n",
       "      <td>4.042325e+06</td>\n",
       "      <td>2</td>\n",
       "      <td>56</td>\n",
       "      <td>2.021162e+06</td>\n",
       "      <td>4.580779</td>\n",
       "      <td>1.437156e-02</td>\n",
       "      <td>1.894518e-02</td>\n",
       "      <td>0.003710</td>\n",
       "      <td>0.868617</td>\n",
       "    </tr>\n",
       "    <tr>\n",
       "      <th>2</th>\n",
       "      <td>difficulty * soa</td>\n",
       "      <td>2.048310e+06</td>\n",
       "      <td>4</td>\n",
       "      <td>112</td>\n",
       "      <td>5.120776e+05</td>\n",
       "      <td>1.536384</td>\n",
       "      <td>1.964906e-01</td>\n",
       "      <td>2.194336e-01</td>\n",
       "      <td>0.001883</td>\n",
       "      <td>0.598575</td>\n",
       "    </tr>\n",
       "  </tbody>\n",
       "</table>\n",
       "</div>"
      ],
      "text/plain": [
       "             Source            SS  ddof1  ddof2            MS           F  \\\n",
       "0        difficulty  1.837813e+08      2     56  9.189067e+07  111.990051   \n",
       "1               soa  4.042325e+06      2     56  2.021162e+06    4.580779   \n",
       "2  difficulty * soa  2.048310e+06      4    112  5.120776e+05    1.536384   \n",
       "\n",
       "          p-unc     p-GG-corr       ng2       eps  \n",
       "0  2.689701e-20  7.907410e-16  0.144787  0.751471  \n",
       "1  1.437156e-02  1.894518e-02  0.003710  0.868617  \n",
       "2  1.964906e-01  2.194336e-01  0.001883  0.598575  "
      ]
     },
     "metadata": {},
     "output_type": "display_data"
    },
    {
     "data": {
      "text/html": [
       "<div>\n",
       "<style scoped>\n",
       "    .dataframe tbody tr th:only-of-type {\n",
       "        vertical-align: middle;\n",
       "    }\n",
       "\n",
       "    .dataframe tbody tr th {\n",
       "        vertical-align: top;\n",
       "    }\n",
       "\n",
       "    .dataframe thead th {\n",
       "        text-align: right;\n",
       "    }\n",
       "</style>\n",
       "<table border=\"1\" class=\"dataframe\">\n",
       "  <thead>\n",
       "    <tr style=\"text-align: right;\">\n",
       "      <th></th>\n",
       "      <th>control</th>\n",
       "      <th>low</th>\n",
       "      <th>high</th>\n",
       "    </tr>\n",
       "  </thead>\n",
       "  <tbody>\n",
       "    <tr>\n",
       "      <th>control</th>\n",
       "      <td>1.000000e+00</td>\n",
       "      <td>4.933554e-43</td>\n",
       "      <td>1.159996e-90</td>\n",
       "    </tr>\n",
       "    <tr>\n",
       "      <th>low</th>\n",
       "      <td>4.933554e-43</td>\n",
       "      <td>1.000000e+00</td>\n",
       "      <td>1.520357e-12</td>\n",
       "    </tr>\n",
       "    <tr>\n",
       "      <th>high</th>\n",
       "      <td>1.159996e-90</td>\n",
       "      <td>1.520357e-12</td>\n",
       "      <td>1.000000e+00</td>\n",
       "    </tr>\n",
       "  </tbody>\n",
       "</table>\n",
       "</div>"
      ],
      "text/plain": [
       "              control           low          high\n",
       "control  1.000000e+00  4.933554e-43  1.159996e-90\n",
       "low      4.933554e-43  1.000000e+00  1.520357e-12\n",
       "high     1.159996e-90  1.520357e-12  1.000000e+00"
      ]
     },
     "metadata": {},
     "output_type": "display_data"
    },
    {
     "data": {
      "text/html": [
       "<div>\n",
       "<style scoped>\n",
       "    .dataframe tbody tr th:only-of-type {\n",
       "        vertical-align: middle;\n",
       "    }\n",
       "\n",
       "    .dataframe tbody tr th {\n",
       "        vertical-align: top;\n",
       "    }\n",
       "\n",
       "    .dataframe thead th {\n",
       "        text-align: right;\n",
       "    }\n",
       "</style>\n",
       "<table border=\"1\" class=\"dataframe\">\n",
       "  <thead>\n",
       "    <tr style=\"text-align: right;\">\n",
       "      <th></th>\n",
       "      <th>0.100</th>\n",
       "      <th>0.050</th>\n",
       "      <th>0.025</th>\n",
       "    </tr>\n",
       "  </thead>\n",
       "  <tbody>\n",
       "    <tr>\n",
       "      <th>0.100</th>\n",
       "      <td>1.000000</td>\n",
       "      <td>0.000218</td>\n",
       "      <td>0.015548</td>\n",
       "    </tr>\n",
       "    <tr>\n",
       "      <th>0.050</th>\n",
       "      <td>0.000218</td>\n",
       "      <td>1.000000</td>\n",
       "      <td>0.844919</td>\n",
       "    </tr>\n",
       "    <tr>\n",
       "      <th>0.025</th>\n",
       "      <td>0.015548</td>\n",
       "      <td>0.844919</td>\n",
       "      <td>1.000000</td>\n",
       "    </tr>\n",
       "  </tbody>\n",
       "</table>\n",
       "</div>"
      ],
      "text/plain": [
       "          0.100     0.050     0.025\n",
       "0.100  1.000000  0.000218  0.015548\n",
       "0.050  0.000218  1.000000  0.844919\n",
       "0.025  0.015548  0.844919  1.000000"
      ]
     },
     "metadata": {},
     "output_type": "display_data"
    },
    {
     "data": {
      "text/plain": [
       "(<Axes: >, <matplotlib.colorbar.Colorbar at 0x1db716dc7f0>)"
      ]
     },
     "execution_count": 15,
     "metadata": {},
     "output_type": "execute_result"
    },
    {
     "data": {
      "image/png": "[encoded data removed]",
      "text/plain": [
       "<Figure size 800x600 with 4 Axes>"
      ]
     },
     "metadata": {},
     "output_type": "display_data"
    }
   ],
   "source": [
    "#Occluder size many small\n",
    "df_many_small = df[(df['size_occl'] == \"many small\") & df['acc'] == True ]\n",
    "#Rank transformation\n",
    "df_many_small['rt'] = rankdata(df_many_small['rt'])\n",
    "\n",
    "many_small_anova = pg.rm_anova(data= df_many_small, dv='rt', within=[\"difficulty\", 'soa'], subject = \"pt_num\", detailed = True)\n",
    "display(many_small_anova)\n",
    "\n",
    "posthoc_soa = sp.posthoc_dunn(df_many_small, val_col= \"rt\", group_col= \"difficulty\", p_adjust='bonferroni')\n",
    "display(posthoc_soa)\n",
    "\n",
    "posthoc_size_occl = sp.posthoc_dunn(df_many_small, val_col= \"rt\", group_col= \"soa\", p_adjust='bonferroni')\n",
    "display(posthoc_size_occl)\n",
    "\n",
    "#PLotting them as signplots\n",
    "fig, ax = plt.subplots(1,2,figsize=(8, 6))\n",
    "cmap = ['1', '#fb6a4a',  '#08306b',  '#4292c6', '#c6dbef']\n",
    "heatmap_args = {'cmap': cmap, 'linewidths': 0.25, 'linecolor': '0.5', 'clip_on': False, 'square': True, 'cbar_ax_bbox': [0.95, 0.35, 0.04, 0.3]}\n",
    "sp.sign_plot(posthoc_soa, **heatmap_args, ax =ax[0])\n",
    "\n",
    "sp.sign_plot(posthoc_size_occl, **heatmap_args, ax= ax[1])\n",
    "\n",
    "#Down below we do Tukey multiple comparisons"
   ]
  },
  {
   "cell_type": "markdown",
   "id": "42eee848",
   "metadata": {},
   "source": [
    "### Sub-Anova on few large checking for effects of difficulty X Soa"
   ]
  },
  {
   "cell_type": "code",
   "execution_count": 17,
   "id": "5a6d84a8",
   "metadata": {
    "scrolled": true
   },
   "outputs": [
    {
     "data": {
      "text/html": [
       "<div>\n",
       "<style scoped>\n",
       "    .dataframe tbody tr th:only-of-type {\n",
       "        vertical-align: middle;\n",
       "    }\n",
       "\n",
       "    .dataframe tbody tr th {\n",
       "        vertical-align: top;\n",
       "    }\n",
       "\n",
       "    .dataframe thead th {\n",
       "        text-align: right;\n",
       "    }\n",
       "</style>\n",
       "<table border=\"1\" class=\"dataframe\">\n",
       "  <thead>\n",
       "    <tr style=\"text-align: right;\">\n",
       "      <th></th>\n",
       "      <th>Source</th>\n",
       "      <th>SS</th>\n",
       "      <th>ddof1</th>\n",
       "      <th>ddof2</th>\n",
       "      <th>MS</th>\n",
       "      <th>F</th>\n",
       "      <th>p-unc</th>\n",
       "      <th>p-GG-corr</th>\n",
       "      <th>ng2</th>\n",
       "      <th>eps</th>\n",
       "    </tr>\n",
       "  </thead>\n",
       "  <tbody>\n",
       "    <tr>\n",
       "      <th>0</th>\n",
       "      <td>difficulty</td>\n",
       "      <td>6.728739e+07</td>\n",
       "      <td>2</td>\n",
       "      <td>56</td>\n",
       "      <td>3.364369e+07</td>\n",
       "      <td>56.316952</td>\n",
       "      <td>3.933759e-14</td>\n",
       "      <td>2.621493e-13</td>\n",
       "      <td>0.043960</td>\n",
       "      <td>0.930619</td>\n",
       "    </tr>\n",
       "    <tr>\n",
       "      <th>1</th>\n",
       "      <td>soa</td>\n",
       "      <td>1.504054e+06</td>\n",
       "      <td>2</td>\n",
       "      <td>56</td>\n",
       "      <td>7.520268e+05</td>\n",
       "      <td>1.763035</td>\n",
       "      <td>1.809101e-01</td>\n",
       "      <td>1.851492e-01</td>\n",
       "      <td>0.001027</td>\n",
       "      <td>0.890337</td>\n",
       "    </tr>\n",
       "    <tr>\n",
       "      <th>2</th>\n",
       "      <td>difficulty * soa</td>\n",
       "      <td>2.218613e+06</td>\n",
       "      <td>4</td>\n",
       "      <td>112</td>\n",
       "      <td>5.546533e+05</td>\n",
       "      <td>1.975656</td>\n",
       "      <td>1.030523e-01</td>\n",
       "      <td>1.276458e-01</td>\n",
       "      <td>0.001514</td>\n",
       "      <td>0.708671</td>\n",
       "    </tr>\n",
       "  </tbody>\n",
       "</table>\n",
       "</div>"
      ],
      "text/plain": [
       "             Source            SS  ddof1  ddof2            MS          F  \\\n",
       "0        difficulty  6.728739e+07      2     56  3.364369e+07  56.316952   \n",
       "1               soa  1.504054e+06      2     56  7.520268e+05   1.763035   \n",
       "2  difficulty * soa  2.218613e+06      4    112  5.546533e+05   1.975656   \n",
       "\n",
       "          p-unc     p-GG-corr       ng2       eps  \n",
       "0  3.933759e-14  2.621493e-13  0.043960  0.930619  \n",
       "1  1.809101e-01  1.851492e-01  0.001027  0.890337  \n",
       "2  1.030523e-01  1.276458e-01  0.001514  0.708671  "
      ]
     },
     "metadata": {},
     "output_type": "display_data"
    },
    {
     "data": {
      "text/html": [
       "<div>\n",
       "<style scoped>\n",
       "    .dataframe tbody tr th:only-of-type {\n",
       "        vertical-align: middle;\n",
       "    }\n",
       "\n",
       "    .dataframe tbody tr th {\n",
       "        vertical-align: top;\n",
       "    }\n",
       "\n",
       "    .dataframe thead th {\n",
       "        text-align: right;\n",
       "    }\n",
       "</style>\n",
       "<table border=\"1\" class=\"dataframe\">\n",
       "  <thead>\n",
       "    <tr style=\"text-align: right;\">\n",
       "      <th></th>\n",
       "      <th>high</th>\n",
       "      <th>low</th>\n",
       "      <th>control</th>\n",
       "    </tr>\n",
       "  </thead>\n",
       "  <tbody>\n",
       "    <tr>\n",
       "      <th>high</th>\n",
       "      <td>1.000000e+00</td>\n",
       "      <td>6.119407e-10</td>\n",
       "      <td>4.946917e-32</td>\n",
       "    </tr>\n",
       "    <tr>\n",
       "      <th>low</th>\n",
       "      <td>6.119407e-10</td>\n",
       "      <td>1.000000e+00</td>\n",
       "      <td>3.716788e-08</td>\n",
       "    </tr>\n",
       "    <tr>\n",
       "      <th>control</th>\n",
       "      <td>4.946917e-32</td>\n",
       "      <td>3.716788e-08</td>\n",
       "      <td>1.000000e+00</td>\n",
       "    </tr>\n",
       "  </tbody>\n",
       "</table>\n",
       "</div>"
      ],
      "text/plain": [
       "                 high           low       control\n",
       "high     1.000000e+00  6.119407e-10  4.946917e-32\n",
       "low      6.119407e-10  1.000000e+00  3.716788e-08\n",
       "control  4.946917e-32  3.716788e-08  1.000000e+00"
      ]
     },
     "metadata": {},
     "output_type": "display_data"
    },
    {
     "data": {
      "text/html": [
       "<div>\n",
       "<style scoped>\n",
       "    .dataframe tbody tr th:only-of-type {\n",
       "        vertical-align: middle;\n",
       "    }\n",
       "\n",
       "    .dataframe tbody tr th {\n",
       "        vertical-align: top;\n",
       "    }\n",
       "\n",
       "    .dataframe thead th {\n",
       "        text-align: right;\n",
       "    }\n",
       "</style>\n",
       "<table border=\"1\" class=\"dataframe\">\n",
       "  <thead>\n",
       "    <tr style=\"text-align: right;\">\n",
       "      <th></th>\n",
       "      <th>0.100</th>\n",
       "      <th>0.050</th>\n",
       "      <th>0.025</th>\n",
       "    </tr>\n",
       "  </thead>\n",
       "  <tbody>\n",
       "    <tr>\n",
       "      <th>0.100</th>\n",
       "      <td>1.000000</td>\n",
       "      <td>0.139784</td>\n",
       "      <td>0.275439</td>\n",
       "    </tr>\n",
       "    <tr>\n",
       "      <th>0.050</th>\n",
       "      <td>0.139784</td>\n",
       "      <td>1.000000</td>\n",
       "      <td>1.000000</td>\n",
       "    </tr>\n",
       "    <tr>\n",
       "      <th>0.025</th>\n",
       "      <td>0.275439</td>\n",
       "      <td>1.000000</td>\n",
       "      <td>1.000000</td>\n",
       "    </tr>\n",
       "  </tbody>\n",
       "</table>\n",
       "</div>"
      ],
      "text/plain": [
       "          0.100     0.050     0.025\n",
       "0.100  1.000000  0.139784  0.275439\n",
       "0.050  0.139784  1.000000  1.000000\n",
       "0.025  0.275439  1.000000  1.000000"
      ]
     },
     "metadata": {},
     "output_type": "display_data"
    },
    {
     "data": {
      "text/plain": [
       "(<Axes: >, <matplotlib.colorbar.Colorbar at 0x1db71d007c0>)"
      ]
     },
     "execution_count": 17,
     "metadata": {},
     "output_type": "execute_result"
    },
    {
     "data": {
      "image/png": "[encoded data removed]",
      "text/plain": [
       "<Figure size 800x600 with 4 Axes>"
      ]
     },
     "metadata": {},
     "output_type": "display_data"
    }
   ],
   "source": [
    "#Occluder size few large\n",
    "df_few_large = df[(df['size_occl'] == \"few large\") & df['acc'] == True ]\n",
    "#Rank Transformation\n",
    "df_few_large['rt'] = rankdata(df_few_large['rt'])\n",
    "\n",
    "many_small_anova = pg.rm_anova(data= df_few_large, dv='rt', within=[\"difficulty\", 'soa'], subject = \"pt_num\", detailed = True)\n",
    "display(many_small_anova)\n",
    "\n",
    "posthoc_soa = sp.posthoc_dunn(df_few_large, val_col= \"rt\", group_col= \"difficulty\", p_adjust='bonferroni')\n",
    "display(posthoc_soa)\n",
    "\n",
    "posthoc_size_occl = sp.posthoc_dunn(df_few_large, val_col= \"rt\", group_col= \"soa\", p_adjust='bonferroni')\n",
    "display(posthoc_size_occl)\n",
    "\n",
    "#PLotting them as signplots\n",
    "fig, ax = plt.subplots(1,2,figsize=(8, 6))\n",
    "cmap = ['1', '#fb6a4a',  '#08306b',  '#4292c6', '#c6dbef']\n",
    "heatmap_args = {'cmap': cmap, 'linewidths': 0.25, 'linecolor': '0.5', 'clip_on': False, 'square': True, 'cbar_ax_bbox': [0.95, 0.35, 0.04, 0.3]}\n",
    "sp.sign_plot(posthoc_soa, **heatmap_args, ax =ax[0])\n",
    "\n",
    "sp.sign_plot(posthoc_size_occl, **heatmap_args, ax= ax[1])\n",
    "\n",
    "#Down below we do Tukey multiple comparisons"
   ]
  },
  {
   "cell_type": "markdown",
   "id": "0ecd2763",
   "metadata": {},
   "source": [
    "# Conclusion\n",
    "\n",
    "**It is shown that most of the effects in the un-transformed data is still present.** \n",
    "\n",
    "With an exception on few-large, main effect of SOA was significant in original analysis. But with rank-transformation this main effect of SOA is not present anymore. There are also some differences in multiple comparisons. \n",
    "\n",
    "(In the original script it was checked with Tukey's test but since it does not fit for non-parametric dataset, we have used Dunn's test which is the equivalent of Tukey's test but on non-parametric data.)"
   ]
  }
 ],
 "metadata": {
  "kernelspec": {
   "display_name": "Python 3 (ipykernel)",
   "language": "python",
   "name": "python3"
  },
  "language_info": {
   "codemirror_mode": {
    "name": "ipython",
    "version": 3
   },
   "file_extension": ".py",
   "mimetype": "text/x-python",
   "name": "python",
   "nbconvert_exporter": "python",
   "pygments_lexer": "ipython3",
   "version": "3.9.15"
  }
 },
 "nbformat": 4,
 "nbformat_minor": 5
}
