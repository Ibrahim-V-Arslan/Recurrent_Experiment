{
 "cells": [
  {
   "cell_type": "code",
   "execution_count": 13,
   "id": "53e36fbc",
   "metadata": {},
   "outputs": [
    {
     "name": "stdout",
     "output_type": "stream",
     "text": [
      "Number of grey shapes: 48\n"
     ]
    }
   ],
   "source": [
    "from PIL import Image\n",
    "import cv2\n",
    "import numpy as np\n",
    "import matplotlib.pyplot as plt\n",
    "\n",
    "global filtered_contours\n",
    "\n",
    "def process_image(input_im, input_obj, col_occl=100):\n",
    "    # Read the image\n",
    "    im = (plt.imread(input_im) * 255).astype('uint8')\n",
    "\n",
    "    # If an input object was given\n",
    "    if input_obj:\n",
    "        # Read the object image\n",
    "        obj = (plt.imread(input_obj) * 255).astype('uint8')\n",
    "        if not obj.shape[2] in [2, 4]:\n",
    "            raise ValueError('Your object image must have an alpha channel.')\n",
    "\n",
    "        # Remove the object from the image\n",
    "        obj_mask = (obj[:,:,3] == 255)\n",
    "        # Turn the object to gray/black (opposite to col_occl)\n",
    "        if col_occl == 0:\n",
    "            im[obj_mask] = 100\n",
    "            binary_image = (im != 100).astype(int)\n",
    "        elif col_occl == 100:\n",
    "            im[obj_mask] = 0\n",
    "            binary_image = (im == 0).astype(int)\n",
    "\n",
    "    # Save the modified image\n",
    "    cv2.imwrite(\"temp.png\", im)\n",
    "\n",
    "    # Load the image\n",
    "    image = cv2.imread('temp.png')\n",
    "\n",
    "    # Convert the image to RGB\n",
    "    image_rgb = cv2.cvtColor(image, cv2.COLOR_BGR2RGB)\n",
    "\n",
    "    # Define the lower and upper bounds of the grey color (in RGB format)\n",
    "    lower_bound = np.array([100, 100, 100], dtype=np.uint8)\n",
    "    upper_bound = np.array([100, 100, 100], dtype=np.uint8)\n",
    "\n",
    "    # Create a binary mask for the grey shapes\n",
    "    mask = cv2.inRange(image_rgb, lower_bound, upper_bound)\n",
    "\n",
    "    # Find contours in the binary mask\n",
    "    contours, _ = cv2.findContours(mask, cv2.RETR_EXTERNAL, cv2.CHAIN_APPROX_SIMPLE)\n",
    "\n",
    "    # Filter contours based on area to exclude small noise\n",
    "    min_contour_area = 20  # Adjust as needed\n",
    "    filtered_contours = [contour for contour in contours if cv2.contourArea(contour) > min_contour_area]\n",
    "\n",
    "    # Draw contours on the original image for visualization\n",
    "    result_image = cv2.drawContours(image.copy(), filtered_contours, -1, (0, 255, 0), 2)\n",
    "\n",
    "    # Display the result\n",
    "    cv2.imshow('Result', result_image)\n",
    "    cv2.waitKey(0)\n",
    "    cv2.destroyAllWindows()\n",
    "\n",
    "    # Print the number of grey shapes\n",
    "    print(f'Number of grey shapes: {len(filtered_contours)}')\n",
    "\n",
    "# Example usage\n",
    "image_path = \"C:\\\\Users\\\\veoni\\\\Documents\\\\GitHub\\\\MORE\\\\Experiment\\\\Stimulus\\\\all_stim\\\\occlusion\\\\partialviewing\\\\manysmall\\\\control\\\\manysmall_partialViewing_control_bird10.png\"\n",
    "object_image = \"C:/Users/veoni/Documents/GitHub/MORE/Experiment/Stimulus/objects/bird10.png\"\n",
    "process_image(image_path, object_image, 100)\n"
   ]
  },
  {
   "cell_type": "code",
   "execution_count": 11,
   "id": "bf764879-822a-4f2f-a505-0c54b29d58cd",
   "metadata": {},
   "outputs": [
    {
     "name": "stdout",
     "output_type": "stream",
     "text": [
      "Number of grey shapes: 2\n"
     ]
    }
   ],
   "source": [
    "inp = \"C:/Users/veoni/Documents/GitHub/MORE/Experiment/Stimulus/all_stim/occlusion/partialviewing/fewlarge/high/fewlarge_partialViewing_high_person5.png\"\n",
    "obj = \"C:/Users/veoni/Documents/GitHub/MORE/Experiment/Stimulus/objects/person5.png\"\n",
    "process_image(inp,obj,0)"
   ]
  },
  {
   "cell_type": "code",
   "execution_count": 14,
   "id": "db849648-3352-4422-b810-886465e33b7c",
   "metadata": {},
   "outputs": [
    {
     "name": "stdout",
     "output_type": "stream",
     "text": [
      "Number of grey shapes: 26\n"
     ]
    }
   ],
   "source": [
    "inp = \"C:/Users/veoni/Documents/GitHub/MORE/Experiment/Stimulus/all_stim/occlusion/partialviewing/manysmall/high/manysmall_partialViewing_high_person6.png\"\n",
    "obj = \"C:/Users/veoni/Documents/GitHub/MORE/Experiment/Stimulus/objects/person6.png\"\n",
    "process_image(inp,obj,100)"
   ]
  },
  {
   "cell_type": "code",
   "execution_count": 4,
   "id": "53fd1baf-56ca-41fc-b195-37c73bbba223",
   "metadata": {},
   "outputs": [
    {
     "name": "stdout",
     "output_type": "stream",
     "text": [
      "Number of grey shapes: 27\n"
     ]
    }
   ],
   "source": [
    "inp = \"C:/Users/veoni/Documents/GitHub/MORE/Experiment/Stimulus/all_stim/occlusion/partialviewing/manysmall/high/manysmall_partialViewing_high_building6.png\"\n",
    "obj = \"C:/Users/veoni/Documents/GitHub/MORE/Experiment/Stimulus/objects/building6.png\"\n",
    "process_image(inp,obj,100)"
   ]
  },
  {
   "cell_type": "code",
   "execution_count": 5,
   "id": "16f2769c-eff1-4f04-bf4c-85d713f9e124",
   "metadata": {},
   "outputs": [
    {
     "name": "stdout",
     "output_type": "stream",
     "text": [
      "Number of grey shapes: 36\n"
     ]
    }
   ],
   "source": [
    "inp = \"C:/Users/veoni/Documents/GitHub/MORE/Experiment/Stimulus/all_stim/occlusion/partialviewing/manysmall/control/manysmall_partialViewing_control_cat6.png\"\n",
    "obj = \"C:/Users/veoni/Documents/GitHub/MORE/Experiment/Stimulus/objects/cat6.png\"\n",
    "process_image(inp,obj,0)"
   ]
  },
  {
   "cell_type": "code",
   "execution_count": 6,
   "id": "c354f0d6-d8b7-4cb6-977a-1f133c4ea7d2",
   "metadata": {},
   "outputs": [
    {
     "name": "stdout",
     "output_type": "stream",
     "text": [
      "Number of grey shapes: 24\n"
     ]
    }
   ],
   "source": [
    "from PIL import Image\n",
    "import cv2\n",
    "import numpy as np\n",
    "global filtered_contours\n",
    "#temp\n",
    "def process_image(image_path):\n",
    "    # Open the image\n",
    "    img = Image.open(image_path)\n",
    "    \n",
    "    # Convert the image to RGB mode if it's in a different mode (e.g., RGBA for PNG)\n",
    "    img = img.convert('RGB')\n",
    "    \n",
    "    # Get the dimensions of the image\n",
    "    width, height = img.size\n",
    "    \n",
    "    # Loop through each pixel\n",
    "    for x in range(width):\n",
    "        for y in range(height):\n",
    "            # Get the RGB values of the current pixel\n",
    "            current_color = img.getpixel((x, y))\n",
    "            \n",
    "            # Convert the color values to integers\n",
    "            current_color = tuple(map(int, current_color))\n",
    "            \n",
    "            # Check if the color is not (100, 100, 100) or (0, 0, 0)\n",
    "            if current_color != (100, 100, 100) and current_color != (0, 0, 0):\n",
    "                # Change the color to (100, 100, 100)\n",
    "                img.putpixel((x, y), (100, 100, 100))\n",
    "    \n",
    "    # Save the modified image\n",
    "    img.save((\"temp.png\"))\n",
    "    image = \"temp.png\"\n",
    "    image = cv2.imread('temp.png')\n",
    "\n",
    "    # Load the image\n",
    "        # Define the lower and upper bounds of the grey color (in BGR format)\n",
    "    lower_bound = np.array([100, 100, 100], dtype=np.uint8)\n",
    "    upper_bound = np.array([100, 100, 100], dtype=np.uint8)\n",
    "\n",
    "    # Create a binary mask for the grey shapes\n",
    "    mask = cv2.inRange(image, lower_bound, upper_bound)\n",
    "\n",
    "    # Find contours in the binary mask\n",
    "    contours, _ = cv2.findContours(mask, cv2.RETR_EXTERNAL, cv2.CHAIN_APPROX_SIMPLE)\n",
    "\n",
    "    # Filter contours based on area to exclude small noise\n",
    "    min_contour_area = 100  # Adjust as needed\n",
    "    filtered_contours = [contour for contour in contours if cv2.contourArea(contour) > min_contour_area]\n",
    "\n",
    "    # Draw contours on the original image for visualization\n",
    "    result_image = cv2.drawContours(image.copy(), filtered_contours, -1, (0, 255, 0), 2)\n",
    "\n",
    "    # Display the result\n",
    "    cv2.imshow('Result', result_image)\n",
    "    cv2.waitKey(0)\n",
    "    cv2.destroyAllWindows()\n",
    "\n",
    "    # Print the number of grey shapes\n",
    "    print(f'Number of grey shapes: {len(filtered_contours)}')\n",
    "\n",
    "\n",
    "# Example usage\n",
    "inp = \"C:/Users/veoni/Documents/GitHub/MORE/Experiment/Stimulus/all_stim/occlusion/partialviewing/manysmall/high/manysmall_partialViewing_high_cat6.png\"\n",
    "process_image(inp)"
   ]
  }
 ],
 "metadata": {
  "kernelspec": {
   "display_name": "Python 3 (ipykernel)",
   "language": "python",
   "name": "python3"
  },
  "language_info": {
   "codemirror_mode": {
    "name": "ipython",
    "version": 3
   },
   "file_extension": ".py",
   "mimetype": "text/x-python",
   "name": "python",
   "nbconvert_exporter": "python",
   "pygments_lexer": "ipython3",
   "version": "3.11.5"
  }
 },
 "nbformat": 4,
 "nbformat_minor": 5
}
